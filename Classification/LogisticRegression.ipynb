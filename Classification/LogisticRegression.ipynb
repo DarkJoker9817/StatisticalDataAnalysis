{
  "nbformat": 4,
  "nbformat_minor": 0,
  "metadata": {
    "colab": {
      "name": "LogisticRegression.ipynb",
      "provenance": [],
      "collapsed_sections": []
    },
    "kernelspec": {
      "name": "python3",
      "display_name": "Python 3"
    },
    "language_info": {
      "name": "python"
    }
  },
  "cells": [
    {
      "cell_type": "code",
      "metadata": {
        "id": "9CF2IpJcSxTo",
        "colab": {
          "base_uri": "https://localhost:8080/"
        },
        "outputId": "dc7e6ced-f409-45b5-a769-f5ec1136f88d"
      },
      "source": [
        "from google.colab import drive\n",
        "drive.mount('/content/drive')"
      ],
      "execution_count": 1,
      "outputs": [
        {
          "output_type": "stream",
          "text": [
            "Mounted at /content/drive\n"
          ],
          "name": "stdout"
        }
      ]
    },
    {
      "cell_type": "code",
      "metadata": {
        "id": "bP9XJWVVpL-P"
      },
      "source": [
        "import os\n",
        "os.chdir('/content/drive/MyDrive/Colab Notebooks/Statistical Data Analysis/Project/')"
      ],
      "execution_count": 2,
      "outputs": []
    },
    {
      "cell_type": "code",
      "metadata": {
        "id": "MFsK53PgvdRC"
      },
      "source": [
        "# Dataset import\n",
        "import pandas as pd\n",
        "data = pd.read_csv(\"ClassificationData_SDA_AH_group3.csv\",delimiter=',')"
      ],
      "execution_count": 3,
      "outputs": []
    },
    {
      "cell_type": "code",
      "metadata": {
        "id": "lOjExJ6hF2Wf"
      },
      "source": [
        "from sklearn import preprocessing\n",
        "\n",
        "# Feature scaler in (0,1) range\n",
        "scaler = preprocessing.MinMaxScaler(feature_range=(0,1))\n",
        "d = scaler.fit_transform(data)\n",
        "# Columns rename\n",
        "names=('Dehydratation', 'Hyperthermia', 'AvgSpeed', 'AvgTravelledDistance', 'PressingCapability', 'PhysicalEndurance', 'MentalConcentration', 'EmotionalMotivation', 'OppositeTeamDefence')\n",
        "data = pd.DataFrame(d, columns=names)"
      ],
      "execution_count": 4,
      "outputs": []
    },
    {
      "cell_type": "code",
      "metadata": {
        "id": "o270EHdkZ83A"
      },
      "source": [
        "from sklearn.model_selection import train_test_split\n",
        "\n",
        "# Data split (features/response)\n",
        "X = data.iloc[:, :8]\n",
        "Y = data.iloc[:, 8]\n",
        "\n",
        "# Data split (train/test)\n",
        "X_train, X_test, Y_train, Y_test = train_test_split(X, Y, test_size=0.3)"
      ],
      "execution_count": 5,
      "outputs": []
    },
    {
      "cell_type": "code",
      "metadata": {
        "id": "z5YYJRjvmmnx"
      },
      "source": [
        "from sklearn.linear_model import LogisticRegression, SGDClassifier\n",
        "def my_lr(X_train, X_test, Y_train, Y_test, results_flag):\n",
        "  lr = SGDClassifier('log')\n",
        "  #Model fitting\n",
        "  lr.fit(X_train, Y_train)\n",
        "  #Predict  class labels for sample in X\n",
        "  Y_estimated = lr.predict(X_test)\n",
        " \n",
        "  if results_flag:\n",
        "    print('Confusion Matrix:')\n",
        "    print(confusion_matrix(Y_test, Y_estimated))\n",
        "    print('\\nClassifier Performance Metrics')\n",
        "    print(classification_report(Y_test, Y_estimated))\n",
        "  return lr\n",
        "\n",
        " \n",
        "\n"
      ],
      "execution_count": 6,
      "outputs": []
    },
    {
      "cell_type": "markdown",
      "metadata": {
        "id": "ZjPT5z6dksma"
      },
      "source": [
        "P(Y|X)=sigmoid"
      ]
    },
    {
      "cell_type": "code",
      "metadata": {
        "colab": {
          "base_uri": "https://localhost:8080/"
        },
        "id": "sUReQ5jTiKvJ",
        "outputId": "c1812f76-f82e-4a99-810d-f887b2d1c501"
      },
      "source": [
        "from sklearn.metrics import classification_report, confusion_matrix\n",
        "#Classification\n",
        "model = my_lr(X_train, X_test, Y_train, Y_test, True)\n",
        "print(model);"
      ],
      "execution_count": 7,
      "outputs": [
        {
          "output_type": "stream",
          "text": [
            "Confusion Matrix:\n",
            "[[18  1]\n",
            " [ 0 41]]\n",
            "\n",
            "Classifier Performance Metrics\n",
            "              precision    recall  f1-score   support\n",
            "\n",
            "         0.0       1.00      0.95      0.97        19\n",
            "         1.0       0.98      1.00      0.99        41\n",
            "\n",
            "    accuracy                           0.98        60\n",
            "   macro avg       0.99      0.97      0.98        60\n",
            "weighted avg       0.98      0.98      0.98        60\n",
            "\n",
            "SGDClassifier(alpha=0.0001, average=False, class_weight=None,\n",
            "              early_stopping=False, epsilon=0.1, eta0=0.0, fit_intercept=True,\n",
            "              l1_ratio=0.15, learning_rate='optimal', loss='log', max_iter=1000,\n",
            "              n_iter_no_change=5, n_jobs=None, penalty='l2', power_t=0.5,\n",
            "              random_state=None, shuffle=True, tol=0.001,\n",
            "              validation_fraction=0.1, verbose=0, warm_start=False)\n"
          ],
          "name": "stdout"
        }
      ]
    },
    {
      "cell_type": "code",
      "metadata": {
        "colab": {
          "base_uri": "https://localhost:8080/"
        },
        "id": "z_5Iv7k-kmOg",
        "outputId": "19aca3ea-bbd1-4618-fe82-4c123bf34ada"
      },
      "source": [
        "model.predict(X_test)"
      ],
      "execution_count": 10,
      "outputs": [
        {
          "output_type": "execute_result",
          "data": {
            "text/plain": [
              "array([0., 0., 0., 1., 1., 1., 1., 1., 0., 1., 1., 1., 1., 1., 1., 1., 0.,\n",
              "       1., 1., 0., 0., 1., 1., 1., 0., 1., 0., 1., 0., 1., 0., 1., 1., 0.,\n",
              "       1., 1., 1., 1., 0., 1., 1., 0., 1., 1., 0., 1., 0., 1., 1., 1., 1.,\n",
              "       1., 1., 1., 1., 1., 0., 1., 1., 0.])"
            ]
          },
          "metadata": {
            "tags": []
          },
          "execution_count": 10
        }
      ]
    },
    {
      "cell_type": "code",
      "metadata": {
        "colab": {
          "base_uri": "https://localhost:8080/"
        },
        "id": "1yiRSMNFktgq",
        "outputId": "7e7a8a3b-0ec3-4c52-a7c4-75ff342c67fc"
      },
      "source": [
        "print(Y_test)"
      ],
      "execution_count": 11,
      "outputs": [
        {
          "output_type": "stream",
          "text": [
            "34     0.0\n",
            "144    0.0\n",
            "47     0.0\n",
            "186    1.0\n",
            "150    1.0\n",
            "30     1.0\n",
            "74     1.0\n",
            "92     1.0\n",
            "102    0.0\n",
            "8      1.0\n",
            "66     1.0\n",
            "36     1.0\n",
            "168    1.0\n",
            "86     1.0\n",
            "159    1.0\n",
            "175    1.0\n",
            "194    0.0\n",
            "181    1.0\n",
            "163    1.0\n",
            "40     0.0\n",
            "11     0.0\n",
            "130    1.0\n",
            "44     1.0\n",
            "169    1.0\n",
            "98     0.0\n",
            "141    1.0\n",
            "17     0.0\n",
            "7      1.0\n",
            "108    0.0\n",
            "35     1.0\n",
            "96     0.0\n",
            "3      1.0\n",
            "119    1.0\n",
            "42     0.0\n",
            "157    1.0\n",
            "32     1.0\n",
            "48     1.0\n",
            "83     1.0\n",
            "79     0.0\n",
            "136    1.0\n",
            "33     0.0\n",
            "153    0.0\n",
            "70     1.0\n",
            "5      1.0\n",
            "165    0.0\n",
            "164    1.0\n",
            "25     0.0\n",
            "6      1.0\n",
            "106    1.0\n",
            "89     1.0\n",
            "29     1.0\n",
            "62     1.0\n",
            "182    1.0\n",
            "109    1.0\n",
            "85     1.0\n",
            "22     1.0\n",
            "28     0.0\n",
            "63     1.0\n",
            "51     1.0\n",
            "12     0.0\n",
            "Name: OppositeTeamDefence, dtype: float64\n"
          ],
          "name": "stdout"
        }
      ]
    },
    {
      "cell_type": "code",
      "metadata": {
        "colab": {
          "base_uri": "https://localhost:8080/"
        },
        "id": "JRxoEhPRkuZy",
        "outputId": "fd48a539-6d63-478f-b331-9f1e1a5e398a"
      },
      "source": [
        "stima = model.predict(X_test)\n",
        "print(\"numero stima:\", len(stima))\n",
        "print(\"numero Y_test:\", len(Y_test))\n",
        "list_index = []\n",
        "count_errore = 0 \n",
        "for i in range(len(stima)):\n",
        "  if stima[i]!=Y_test.iloc[i]:\n",
        "    count_errore += 1\n",
        "    list_index.append(i)\n",
        "\n",
        "print(\"numero errori:\",count_errore)\n",
        "print(list_index)"
      ],
      "execution_count": 13,
      "outputs": [
        {
          "output_type": "stream",
          "text": [
            "numero stima: 60\n",
            "numero Y_test: 60\n",
            "numero errori: 1\n",
            "[40]\n"
          ],
          "name": "stdout"
        }
      ]
    }
  ]
}